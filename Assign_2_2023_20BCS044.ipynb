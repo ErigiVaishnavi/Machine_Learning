{
  "nbformat": 4,
  "nbformat_minor": 0,
  "metadata": {
    "colab": {
      "provenance": [],
      "collapsed_sections": [
        "BMCMeD4VW_5g",
        "dgi6q7REXGRs",
        "7v3RjsfjXrBa",
        "SK5JfZovYgzH",
        "0K68jjTgZy7i",
        "GwxXRYedbMLz",
        "FkxUyalncGb4",
        "aiC14_6sdX2R",
        "GZ-M7p2bd9l-",
        "d6ZeqYQHfBR9",
        "kOugDLI_fl2f",
        "LO_wB7zIh8P9"
      ],
      "include_colab_link": true
    },
    "kernelspec": {
      "name": "python3",
      "display_name": "Python 3"
    },
    "language_info": {
      "name": "python"
    }
  },
  "cells": [
    {
      "cell_type": "markdown",
      "metadata": {
        "id": "view-in-github",
        "colab_type": "text"
      },
      "source": [
        "<a href=\"https://colab.research.google.com/github/ErigiVaishnavi/Machine_Learning/blob/main/Assign_2_2023_20BCS044.ipynb\" target=\"_parent\"><img src=\"https://colab.research.google.com/assets/colab-badge.svg\" alt=\"Open In Colab\"/></a>"
      ]
    },
    {
      "cell_type": "markdown",
      "source": [
        "# Question-1"
      ],
      "metadata": {
        "id": "BMCMeD4VW_5g"
      }
    },
    {
      "cell_type": "markdown",
      "source": [
        "**1.Perform the following Python functions on any suitable string/s**\n",
        "\n",
        "a.Capitalize, uppercase and lowercase of the string. \n",
        "\n",
        "b.Number of times a specified value occurs in a string. \n",
        "\n",
        "c.Returns True if all characters in the string are alphanumeric, alphabet,  decimals, digits, printable.**\n",
        "\n"
      ],
      "metadata": {
        "id": "hjClTNvCYKlU"
      }
    },
    {
      "cell_type": "code",
      "execution_count": 1,
      "metadata": {
        "colab": {
          "base_uri": "https://localhost:8080/"
        },
        "id": "tcneuIvSX8a1",
        "outputId": "6036b52b-cd5e-45c9-cb9f-ba32df61ddd1"
      },
      "outputs": [
        {
          "output_type": "stream",
          "name": "stdout",
          "text": [
            "1st letter uppercase of string1:  Numpy\n",
            "pconvert or print string1 in uppercase:  NUMPY\n",
            "convert string1 in lowercase:  numpy\n",
            "count no.of times y is repeated in string1 1\n",
            "is in string2 all characters are alphanumeric:  False\n",
            "all charecters are alphabetic in string2:  False\n",
            "Check whether all characters in the string1 are in decimals formate:  False\n",
            "is all characters in the string1 are digits:  False\n",
            "is all characters in the string are printable:  True\n"
          ]
        }
      ],
      "source": [
        "###a.Capitalize, uppercase and lowercase of the string\n",
        "string1= \"numpy\"\n",
        "print(\"1st letter uppercase of string1: \",string1.capitalize()) \n",
        "print(\"pconvert or print string1 in uppercase: \",string1.upper())   \n",
        "print(\"convert string1 in lowercase: \",string1.lower()) \n",
        "\n",
        "###b.Number of times a specified value occurs in a string.\n",
        "print(\"count no.of times y is repeated in string1\",string1.count(\"y\"))\n",
        "\n",
        "###c.Returns True if all characters in the string are alphanumeric, alphabet,  decimals, digits, printable.\n",
        "string2= \"Numpy@Assign2@20bcs044\"\n",
        "print(\"is in string2 all characters are alphanumeric: \",string2.isalnum())    \n",
        "print(\"all charecters are alphabetic in string2: \",string2.isalpha())      \n",
        "print(\"Check whether all characters in the string1 are in decimals formate: \",string2.isdecimal())\n",
        "print(\"is all characters in the string1 are digits: \",string2.isdigit())\n",
        "print(\"is all characters in the string are printable: \",string2.isprintable())"
      ]
    },
    {
      "cell_type": "markdown",
      "source": [
        "# Question-2"
      ],
      "metadata": {
        "id": "dgi6q7REXGRs"
      }
    },
    {
      "cell_type": "markdown",
      "source": [
        "**2.Create a 2D array containing random floats between 1 and 10 and arrange them in  3*3 form?**"
      ],
      "metadata": {
        "id": "hYQ6IsSrbBLk"
      }
    },
    {
      "cell_type": "code",
      "source": [
        "import random\n",
        "\n",
        "arr2d = [[0.0 for k in range(3)] for k in range(3)]      # Creating an empty 3x3 array\n",
        "for i in range(3):\n",
        "    for j in range(3):\n",
        "        arr2d[i][j] = round(random.uniform(1, 10), 2)   # Filling the array with random floats between 1 and 10\n",
        "for row in arr2d:  # Printing the array\n",
        "    print(row)"
      ],
      "metadata": {
        "id": "3LVKdStkbORB",
        "colab": {
          "base_uri": "https://localhost:8080/"
        },
        "outputId": "68a75299-d0cf-49ff-f4fe-aa5dfc1da3c7"
      },
      "execution_count": 2,
      "outputs": [
        {
          "output_type": "stream",
          "name": "stdout",
          "text": [
            "[6.12, 8.66, 4.28]\n",
            "[5.73, 7.79, 3.1]\n",
            "[2.01, 5.87, 1.54]\n"
          ]
        }
      ]
    },
    {
      "cell_type": "markdown",
      "source": [
        "# Question-3"
      ],
      "metadata": {
        "id": "7v3RjsfjXrBa"
      }
    },
    {
      "cell_type": "markdown",
      "source": [
        "**3.Iterate 3D floating array of any dimension with random values using nditer ()  function and iterate 3D string array of any dimensions with predefined values using  ndenumerate () function.** "
      ],
      "metadata": {
        "id": "CEsU6XIq2spd"
      }
    },
    {
      "cell_type": "code",
      "source": [
        "import numpy as np\n",
        "import string\n",
        "import random\n",
        "\n",
        "float_array = np.random.rand(1, 2, 3) # Creating a 3D floating array with random values between 0 and 1\n",
        "for x in np.nditer(float_array): # Iterate over the array using nditer() function\n",
        "    print(x)\n",
        "# Create a 3D string array with predefined values\n",
        "string_array = np.array([[[random.choice(string.ascii_uppercase) for _ in range(2)] for _ in range(2)] for _ in range(3)])\n",
        "for index, value in np.ndenumerate(string_array):  # Iterate over the array using ndenumerate() function\n",
        "    print(index, value)"
      ],
      "metadata": {
        "colab": {
          "base_uri": "https://localhost:8080/"
        },
        "id": "BYauB53e28Cq",
        "outputId": "d57f4709-017b-4820-ccbc-a43197c820a7"
      },
      "execution_count": 3,
      "outputs": [
        {
          "output_type": "stream",
          "name": "stdout",
          "text": [
            "0.550162120273843\n",
            "0.07946253823376237\n",
            "0.8863692673181918\n",
            "0.4114792648735178\n",
            "0.21243537017715441\n",
            "0.8118246786160596\n",
            "(0, 0, 0) V\n",
            "(0, 0, 1) I\n",
            "(0, 1, 0) Q\n",
            "(0, 1, 1) C\n",
            "(1, 0, 0) U\n",
            "(1, 0, 1) R\n",
            "(1, 1, 0) D\n",
            "(1, 1, 1) P\n",
            "(2, 0, 0) Q\n",
            "(2, 0, 1) S\n",
            "(2, 1, 0) G\n",
            "(2, 1, 1) S\n"
          ]
        }
      ]
    },
    {
      "cell_type": "markdown",
      "source": [
        "# Question-4"
      ],
      "metadata": {
        "id": "SK5JfZovYgzH"
      }
    },
    {
      "cell_type": "markdown",
      "source": [
        "**4.Write a python script to join the two 3D arrays using Stack Functions of NumPy.**"
      ],
      "metadata": {
        "id": "FfsicuOr7132"
      }
    },
    {
      "cell_type": "code",
      "source": [
        "import numpy as np\n",
        "\n",
        "#two 3D arrays\n",
        "array1 = np.random.rand(1, 2, 4)\n",
        "array2 = np.random.rand(1, 2, 4)\n",
        "joined_array = np.vstack((array1, array2)) #np.vstack() is used to Join the arrays along the first dimension \n",
        "\n",
        "print(\"Shape of arr1:\", array1.shape)\n",
        "print(\"Shape of arr2:\", array2.shape)\n",
        "print(\"Shape of joined array:\", joined_array.shape)\n"
      ],
      "metadata": {
        "colab": {
          "base_uri": "https://localhost:8080/"
        },
        "id": "iKPLjoIn8CRS",
        "outputId": "ed1f6d54-a305-4e55-d5bc-c34d9aa2638a"
      },
      "execution_count": 4,
      "outputs": [
        {
          "output_type": "stream",
          "name": "stdout",
          "text": [
            "Shape of arr1: (1, 2, 4)\n",
            "Shape of arr2: (1, 2, 4)\n",
            "Shape of joined array: (2, 2, 4)\n"
          ]
        }
      ]
    },
    {
      "cell_type": "markdown",
      "source": [
        "# Question-5"
      ],
      "metadata": {
        "id": "0K68jjTgZy7i"
      }
    },
    {
      "cell_type": "markdown",
      "source": [
        "**5.Write a python script to split the 2D and 3D array using array_split and other stacking  functions and access newly created arrays using NumPy.**\n"
      ],
      "metadata": {
        "id": "Ycwjsegn_Hgo"
      }
    },
    {
      "cell_type": "code",
      "source": [
        "import numpy as np\n",
        "\n",
        "# creating a 2D NumPy array\n",
        "array2d= np.array([[1, 2, 3],\n",
        "                   [4, 5, 6],\n",
        "                   [7, 8, 9],\n",
        "                   [10, 11, 12]])    \n",
        "subarr2d = np.array_split(array2d, 3)           # split the 2D array into three sub-arrays of equal size\n",
        "print(\"First Sub-Array:\\n\", subarr2d[0])        # access the first sub-array\n",
        "print(\"\\nSecond Sub-Array:\\n\", subarr2d[1])     # access the second sub-array\n",
        "print(\"\\nThird Sub-Array:\\n\", subarr2d[2])      # access the third sub-array\n",
        "# creating a 3D NumPy array\n",
        "array3d = np.array([[[1, 2], [3, 4]], \n",
        "                    [[5, 6], [7, 8]], \n",
        "                    [[9, 10], [11, 12]], \n",
        "                    [[13, 14], [15, 16]]])  \n",
        "subarr3d = np.split(array3d, 2, axis=0)         # split the 3D array into two sub-arrays along the first axis\n",
        "print(\"\\nFirst Sub-Array:\\n\", subarr3d[0])      # access the first sub-array\n",
        "print(\"\\nSecond Sub-Array:\\n\", subarr3d[1])     # access the second sub-array\n",
        "stackedarr3d = np.concatenate(subarr3d, axis=0) # stack the two sub-arrays along the first axis\n",
        "print(\"\\nStacked Array:\\n\", stackedarr3d)       # access the stacked array"
      ],
      "metadata": {
        "colab": {
          "base_uri": "https://localhost:8080/"
        },
        "id": "levY87pnh2HU",
        "outputId": "b74b2183-dbf4-4959-8bf1-9add36925691"
      },
      "execution_count": 5,
      "outputs": [
        {
          "output_type": "stream",
          "name": "stdout",
          "text": [
            "First Sub-Array:\n",
            " [[1 2 3]\n",
            " [4 5 6]]\n",
            "\n",
            "Second Sub-Array:\n",
            " [[7 8 9]]\n",
            "\n",
            "Third Sub-Array:\n",
            " [[10 11 12]]\n",
            "\n",
            "First Sub-Array:\n",
            " [[[1 2]\n",
            "  [3 4]]\n",
            "\n",
            " [[5 6]\n",
            "  [7 8]]]\n",
            "\n",
            "Second Sub-Array:\n",
            " [[[ 9 10]\n",
            "  [11 12]]\n",
            "\n",
            " [[13 14]\n",
            "  [15 16]]]\n",
            "\n",
            "Stacked Array:\n",
            " [[[ 1  2]\n",
            "  [ 3  4]]\n",
            "\n",
            " [[ 5  6]\n",
            "  [ 7  8]]\n",
            "\n",
            " [[ 9 10]\n",
            "  [11 12]]\n",
            "\n",
            " [[13 14]\n",
            "  [15 16]]]\n"
          ]
        }
      ]
    },
    {
      "cell_type": "markdown",
      "source": [
        "# Question-6"
      ],
      "metadata": {
        "id": "GwxXRYedbMLz"
      }
    },
    {
      "cell_type": "markdown",
      "source": [
        "**6.Write a Python script to check whether or not searchsorted() method works with 2D  and 3D arrays.**"
      ],
      "metadata": {
        "id": "Zm4TA6mOkAH1"
      }
    },
    {
      "cell_type": "code",
      "source": [
        "import numpy as np\n",
        "\n",
        "## array2d, array3d values from 5th question\n",
        "index2d = np.searchsorted(array2d[:, 0], 7)  # searching the index where 7 should be inserted in the 2D array\n",
        "print(\"Index where 7 should be inserted in the 2D array:\", index2d)\n",
        "index3d = np.searchsorted(array3d[:, 0, 0], 7)  # search for the index where 7 should be inserted in the 3D array\n",
        "print(\"Index where 7 should be inserted in the 3D array:\", index3d)"
      ],
      "metadata": {
        "colab": {
          "base_uri": "https://localhost:8080/"
        },
        "id": "urgS4Li3kHkt",
        "outputId": "04fdf98d-bc7d-4808-b2cd-86c7e2319d34"
      },
      "execution_count": 6,
      "outputs": [
        {
          "output_type": "stream",
          "name": "stdout",
          "text": [
            "Index where 7 should be inserted in the 2D array: 2\n",
            "Index where 7 should be inserted in the 3D array: 2\n"
          ]
        }
      ]
    },
    {
      "cell_type": "markdown",
      "source": [
        "# Question-7"
      ],
      "metadata": {
        "id": "FkxUyalncGb4"
      }
    },
    {
      "cell_type": "markdown",
      "source": [
        "**7.Write a Python script to randomly generate a 1D array. Sort it using a NumPy  function. Search for element ‘35’ and ‘2’ and print the result.**"
      ],
      "metadata": {
        "id": "wqh0c8u6kIgc"
      }
    },
    {
      "cell_type": "code",
      "source": [
        "import numpy as np\n",
        "\n",
        "arr=np.random.randint(0, 100, size=20)   # generating a random 1D array\n",
        "arrsorted=np.sort(arr)   # sorting the array in ascending order nnnn n\n",
        "result_35=np.where(arrsorted==35)  # search the elements '35' and '2'\n",
        "result_2 = np.where(arrsorted==2)\n",
        "\n",
        "print(\"Sorted array:\", arrsorted)\n",
        "print(\"Index of 35:\", result_35[0])\n",
        "print(\"Index of 2:\", result_2[0])"
      ],
      "metadata": {
        "id": "P7fKmt3DlUGW",
        "colab": {
          "base_uri": "https://localhost:8080/"
        },
        "outputId": "06797036-2b78-4760-98fc-ed5f8acd8f69"
      },
      "execution_count": 7,
      "outputs": [
        {
          "output_type": "stream",
          "name": "stdout",
          "text": [
            "Sorted array: [18 19 21 30 38 41 42 44 48 51 53 53 54 66 68 71 77 90 94 98]\n",
            "Index of 35: []\n",
            "Index of 2: []\n"
          ]
        }
      ]
    },
    {
      "cell_type": "markdown",
      "source": [
        "# Question-8"
      ],
      "metadata": {
        "id": "aiC14_6sdX2R"
      }
    },
    {
      "cell_type": "markdown",
      "source": [
        "**8.Write a Python script to implement the Data Distribution.**"
      ],
      "metadata": {
        "id": "ytq_219f7cYz"
      }
    },
    {
      "cell_type": "code",
      "source": [
        "import numpy as np\n",
        "import matplotlib.pyplot as plt\n",
        "\n",
        "# Generate the random data using normal distribution\n",
        "mean = 50\n",
        "std_dev = 10\n",
        "data_size = 1000\n",
        "data = np.random.normal(mean, std_dev, data_size)\n",
        "# Plot a histogram of the data\n",
        "fig, ax = plt.subplots()\n",
        "ax.hist(data, bins=50, color='blue', alpha=0.7)\n",
        "# Add axis labels and title\n",
        "ax.set_xlabel('Value')\n",
        "ax.set_ylabel('Frequency')\n",
        "ax.set_title('Data Distribution')\n",
        "\n",
        "print(\"Implementing the Data Distrubution\")\n",
        "plt.show()"
      ],
      "metadata": {
        "id": "wEAYQWTE7gfI",
        "colab": {
          "base_uri": "https://localhost:8080/",
          "height": 0
        },
        "outputId": "1a0adb42-e5d4-4bb5-b2f7-b68fbe7143cd"
      },
      "execution_count": 8,
      "outputs": [
        {
          "output_type": "stream",
          "name": "stdout",
          "text": [
            "Implementing the Data Distrubution\n"
          ]
        },
        {
          "output_type": "display_data",
          "data": {
            "text/plain": [
              "<Figure size 640x480 with 1 Axes>"
            ],
            "image/png": "[encoded data removed]"
          },
          "metadata": {}
        }
      ]
    },
    {
      "cell_type": "markdown",
      "source": [
        "# Question-9"
      ],
      "metadata": {
        "id": "GZ-M7p2bd9l-"
      }
    },
    {
      "cell_type": "markdown",
      "source": [
        "**9.Write a Python script to get weighted random choice in Python? (Hint: random.choice())**\n"
      ],
      "metadata": {
        "id": "vqN7AzzW8Diz"
      }
    },
    {
      "cell_type": "code",
      "source": [
        "import random\n",
        "\n",
        "choices = ['apple', 'banana', 'orange', 'grape'] #choice\n",
        "weights = [0.4, 0.3, 0.2, 0.1] #weights\n",
        "choice = random.choices(choices, weights)[0] # weighted random choice\n",
        "print(choice)"
      ],
      "metadata": {
        "id": "baKT_ro88Kzr",
        "colab": {
          "base_uri": "https://localhost:8080/"
        },
        "outputId": "13b0b621-f27b-4387-aca6-8e30a4fd30d7"
      },
      "execution_count": 9,
      "outputs": [
        {
          "output_type": "stream",
          "name": "stdout",
          "text": [
            "banana\n"
          ]
        }
      ]
    },
    {
      "cell_type": "markdown",
      "source": [
        "# Question-10"
      ],
      "metadata": {
        "id": "d6ZeqYQHfBR9"
      }
    },
    {
      "cell_type": "markdown",
      "source": [
        "**10.Write a Python script to generate Random Numbers From The Uniform Distribution using NumPy.**"
      ],
      "metadata": {
        "id": "thE7S1Oa9i8g"
      }
    },
    {
      "cell_type": "code",
      "source": [
        "import numpy as np\n",
        "\n",
        "#Setting the lower and upper bounds of the uniform distribution\n",
        "low=0    #lower\n",
        "upper=10 #upper means high\n",
        "size=10  #size of an array of random numbers\n",
        "#printing array of random numbers from the uniform distribution\n",
        "print(np.random.uniform(low, upper, size))"
      ],
      "metadata": {
        "colab": {
          "base_uri": "https://localhost:8080/"
        },
        "id": "8kMKwN6-9rjT",
        "outputId": "4ab9bd56-3572-4b45-b041-28811d0b93bf"
      },
      "execution_count": 10,
      "outputs": [
        {
          "output_type": "stream",
          "name": "stdout",
          "text": [
            "[2.5457749  6.08793019 0.14133208 1.65976132 4.7498285  1.17942805\n",
            " 7.50703346 9.13430751 2.39625265 9.75439173]\n"
          ]
        }
      ]
    },
    {
      "cell_type": "markdown",
      "source": [
        "# Question-11"
      ],
      "metadata": {
        "id": "kOugDLI_fl2f"
      }
    },
    {
      "cell_type": "markdown",
      "source": [
        "**11.Write a Python script to convert a list and tuple into NumPy arrays.**"
      ],
      "metadata": {
        "id": "kh5nAthyBzY2"
      }
    },
    {
      "cell_type": "code",
      "source": [
        "import numpy as np\n",
        "\n",
        "list1= [1, 2, 3, 4, 5]\n",
        "print(\"list:\\n\",list1, type(list1))\n",
        "list_array = np.array(list1)\n",
        "print(\"Converted list to numpy arrays:\\n\",list_array, type(list_array))\n",
        "tuple1 = (6, 7, 8, 9, 10)\n",
        "print(\"tuple:\\n\",tuple1, type(tuple1))\n",
        "tuple_array = np.array(tuple1)\n",
        "print(\"Converted tuple to numpy arrays:\\n\",tuple_array, type(tuple1))"
      ],
      "metadata": {
        "colab": {
          "base_uri": "https://localhost:8080/"
        },
        "id": "MYLyH54YB2Pz",
        "outputId": "346906c4-ce51-4ac7-b3ec-fef31c8619e1"
      },
      "execution_count": 11,
      "outputs": [
        {
          "output_type": "stream",
          "name": "stdout",
          "text": [
            "list:\n",
            " [1, 2, 3, 4, 5] <class 'list'>\n",
            "Converted list to numpy arrays:\n",
            " [1 2 3 4 5] <class 'numpy.ndarray'>\n",
            "tuple:\n",
            " (6, 7, 8, 9, 10) <class 'tuple'>\n",
            "Converted tuple to numpy arrays:\n",
            " [ 6  7  8  9 10] <class 'tuple'>\n"
          ]
        }
      ]
    },
    {
      "cell_type": "markdown",
      "source": [
        "# Question-12"
      ],
      "metadata": {
        "id": "LO_wB7zIh8P9"
      }
    },
    {
      "cell_type": "markdown",
      "source": [
        "**12.Write a python script to convert an image to NumPy array and print to the console/command prompt/terminal. (Hint: use from PIL import Image)**"
      ],
      "metadata": {
        "id": "dFVeRc0bCIMz"
      }
    },
    {
      "cell_type": "code",
      "source": [
        "from PIL import Image\n",
        "import numpy as np\n",
        "image=Image.open('sample_Image.jpg')  #open image file\n",
        "arr=np.array(image)\n",
        "print(arr)"
      ],
      "metadata": {
        "id": "_NJw-AT7CVPd"
      },
      "execution_count": null,
      "outputs": []
    },
    {
      "cell_type": "markdown",
      "source": [
        "# Question-13"
      ],
      "metadata": {
        "id": "BdxzWGFOi62K"
      }
    },
    {
      "cell_type": "markdown",
      "source": [
        "**13.Write a python script to save a NumPy array to a text file.**\n"
      ],
      "metadata": {
        "id": "4krFB9L-Cku8"
      }
    },
    {
      "cell_type": "code",
      "source": [
        "import numpy as np\n",
        "\n",
        "a=np.array([[1, 2, 3], \n",
        "            [4, 5, 6], \n",
        "            [7, 8, 9]])\n",
        "np.savetxt('a.txt', a)  # save NumPy array to the text file\n",
        "loaded_array=np.loadtxt('a.txt')  # load the text file to verify that the data was saved correctly\n",
        "print(loaded_array)"
      ],
      "metadata": {
        "id": "A-NpNkDfCrPr"
      },
      "execution_count": null,
      "outputs": []
    },
    {
      "cell_type": "markdown",
      "source": [
        "# Question-14"
      ],
      "metadata": {
        "id": "VnJ-JJyu2Gva"
      }
    },
    {
      "cell_type": "markdown",
      "source": [
        "**14.With the help of NumPy ufunc write a Python script for the following:**\n",
        "\n",
        "**a. Arithmetic operations** \n",
        "\n",
        "**b. Rounding Decimals**\n",
        "\n",
        "**c. Logs** \n",
        "\n",
        "**d. Summations** \n",
        "\n",
        "**e. Products**\n",
        "\n",
        "**f. Differences** \n",
        "\n",
        "**g. Set Operations** \n",
        "\n"
      ],
      "metadata": {
        "id": "PWlDmpesDbhX"
      }
    },
    {
      "cell_type": "code",
      "source": [
        "#a. Arithmetic operations\n",
        "import numpy as np\n",
        "\n",
        "array1=np.array([1, 2, 3, 4])\n",
        "array2=np.array([5, 6, 7, 8])\n",
        "print(\"Arithmetic opreations:\")\n",
        "print(\"Addition:\\n\",np.add(array1, array2))\n",
        "print(\"Subtraction:\\n\",np.subtract(array1, array2))\n",
        "print(\"multiplication:\\n\",np.multiply(array1, array2))\n",
        "print(\"division:\\n\",np.divide(array1, array2))\n",
        "print(\"exponentiation:\\n\",np.power(array1, 2))\n",
        "print(\"square root:\\n\",np.sqrt(array1))\n",
        "\n",
        "#b.Rounding Decimals \n",
        "def round_decimals(array3, decimals=0):\n",
        "    return np.round(array3, decimals=decimals) #Rounds decimal numbers to the nearest whole number\n",
        "array3= np.array([5.45, 7.85, 8.85])\n",
        "print(\"\\nRounding Decimals\")\n",
        "print(round_decimals(array3))\n",
        "print(round_decimals(array3, decimals=1))\n",
        "\n",
        "#c. Logs \n",
        "def log(array4, base=10):\n",
        "    return np.log(array4) / np.log(base)  #return the logarithm of a number to the specified base\n",
        "array4=np.array([1, 10, 100])\n",
        "print(\"\\nLogarithm\")\n",
        "print(log(array4))\n",
        "print(log(array4, base=2))\n",
        "\n",
        "#d. Summations \n",
        "def sum_array(array5, axis=None):\n",
        "    return np.sum(array5, axis=axis)   #return the summation of an array along the specified axis\n",
        "array5=np.array([[4,8], [3,2], [5,9]])\n",
        "print(\"\\nSummations:\")\n",
        "print(sum_array(arr))\n",
        "print(sum_array(arr, axis=0))\n",
        "\n",
        "#e. Products \n",
        "def product_array(array5, axis=None):\n",
        "    return np.prod(array5, axis=axis)  #returns the product of an array along the specified axis\n",
        "array5=np.array([[4,8], [3,2], [5,9]])\n",
        "print(\"\\nProducts:\")\n",
        "print(array5)\n",
        "print(product_array(array5, axis=0))\n",
        "\n",
        "#f. Differences \n",
        "def diff_array(array6, n=1, axis=-1):\n",
        "    return np.diff(array6, n=n, axis=axis)  #returns the nth order difference along the specified axis.\n",
        "array6=np.array([[1, 3], [6, 10], [15, 21]])\n",
        "print(\"\\nDifferences:\")\n",
        "print(array6)\n",
        "print(diff_array(array6, n=2, axis=0))\n",
        "\n",
        "#g. Set Operations\n",
        "def set_operation(arr1,arr2,operation):\n",
        "#Performs a set operation on two arrays\n",
        "    if operation ==\"union\":\n",
        "        return np.union1d(arr1,arr2)\n",
        "    elif operation ==\"intersection\":\n",
        "        return np.intersect1d(arr1,arr2)\n",
        "    elif operation ==\"difference\":\n",
        "        return np.setdiff1d(arr1,arr2)\n",
        "    elif operation ==\"symmetric_difference\":\n",
        "        return np.setxor1d(arr1,arr2)\n",
        "    else:\n",
        "        raise ValueError(\"Invalid operation: {}\".format(operation))\n",
        "arr1=np.array([1,2,3,4,5])\n",
        "arr2=np.array([4,5,6,7,8])\n",
        "print(\"\\nSet Operations:\")\n",
        "print(\"print arr1&arr2:\",arr1,arr2)\n",
        "print(\"print union of arr1&arr2\",set_operation(arr1,arr2,\"union\"))\n",
        "print(\"print intersection of arr1&arr2\",set_operation(arr1,arr2,\"intersection\"))\n",
        "print(\"print difference of arr1&arr2\",set_operation(arr1,arr2,\"difference\"))\n",
        "print(\"print symmetric_difference of arr1&arr2\",set_operation(arr1,arr2,\"symmetric_difference\"))"
      ],
      "metadata": {
        "id": "Cr3eXENtD0sf"
      },
      "execution_count": null,
      "outputs": []
    },
    {
      "cell_type": "markdown",
      "source": [
        "# Question-15"
      ],
      "metadata": {
        "id": "0m2TQ1CJ2Ltr"
      }
    },
    {
      "cell_type": "markdown",
      "source": [
        "**15.Write a Python program to get the difference between flatten() and ravel() functions in NumPy.**\n"
      ],
      "metadata": {
        "id": "lXX-ekXbg7OE"
      }
    },
    {
      "cell_type": "markdown",
      "source": [
        "flatten() and ravel() functions in NumPy are used to convert multi-dimensional arrays into one-dimensional arrays, but there is a subtle difference between them."
      ],
      "metadata": {
        "id": "q3SpC5E4pjIT"
      }
    },
    {
      "cell_type": "code",
      "source": [
        "import numpy as np\n",
        "\n",
        "# create a 2D NumPy array\n",
        "numpyArray= np.array([[1, 2, 3], [4, 5, 6]])\n",
        "print(\"Original Array:\\n\",numpyArray)  #print original array\n",
        "print(\"Flattened Array:\\n\",numpyArray.flatten() )# print flattened array\n",
        "print(\"Raveled Array:\\n\",numpyArray.ravel())# print raveled array\n",
        "flattened=numpyArray.flatten()\n",
        "raveled=numpyArray.ravel()\n",
        "print(\"Original Array Shape:\\n\",numpyArray.shape)\n",
        "print(\"Flattened Array Shape:\\n\", flattened.shape)\n",
        "print(\"Raveled Array Shape:\\n\", raveled.shape)\n",
        "flattened[0] = 10  # modification of first element in flatted\n",
        "raveled[0] = 20  # modification of first element in raveled array\n",
        "print(\"Original Array after Modifying Flattened and Raveled Arrays:\\n\",numpyArray)\n",
        "print(\"Flattened Array after Modifying First Element:\\n\",flattened)\n",
        "print(\"Raveled Array after Modifying First Element:\\n\",raveled)"
      ],
      "metadata": {
        "id": "Fnom95I2g-xs"
      },
      "execution_count": null,
      "outputs": []
    }
  ]
}